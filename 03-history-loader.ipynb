{
 "cells": [
  {
   "cell_type": "code",
   "execution_count": 0,
   "metadata": {
    "application/vnd.databricks.v1+cell": {
     "cellMetadata": {
      "byteLimit": 2048000,
      "rowLimit": 10000
     },
     "inputWidgets": {},
     "nuid": "a8ef05d8-50ce-46b9-aad2-a41478eac735",
     "showTitle": false,
     "tableResultSettingsMap": {},
     "title": ""
    }
   },
   "outputs": [],
   "source": [
    "%run ./01-config"
   ]
  },
  {
   "cell_type": "code",
   "execution_count": 0,
   "metadata": {
    "application/vnd.databricks.v1+cell": {
     "cellMetadata": {
      "byteLimit": 2048000,
      "rowLimit": 10000
     },
     "inputWidgets": {},
     "nuid": "51faa7bb-b28c-4926-bb0a-7b60c6eee73d",
     "showTitle": false,
     "tableResultSettingsMap": {},
     "title": ""
    }
   },
   "outputs": [],
   "source": [
    "class HistoryLoader():\n",
    "    def __init__(self,env):\n",
    "        conf= Config()\n",
    "        self.landing_zone= conf.base_dir_data + '/raw'\n",
    "        self.testing_data_dir= conf.base_dir_data + '/testing'\n",
    "        self.catalog=env\n",
    "        self.db_name = conf.db_name\n",
    "    def load_date_lookup(self):\n",
    "        print(f'loading the date_lookup_table..',end ='')\n",
    "        spark.sql(f\"\"\" insert overwrite table {self.catalog}.{self.db_name}.date_lookup \n",
    "                  select date,week,year,month,dayofweek,dayomonth,dayofyear,week_part\n",
    "                   from json.`{self.testing_data_dir}/6-date-lookup.json/`\n",
    "                  \"\"\")\n",
    "        print('done')\n",
    "    def load_history(self):\n",
    "        import time\n",
    "        start = int(time.time())\n",
    "        print(f'loading the history table...',end='')\n",
    "        self.load_date_lookup()\n",
    "        print(f'history data load complete {int(time.time()-start)}seconds')\n",
    "    def assert_count(self, table_name, expected_count):\n",
    "        print(f'validating the record count..',end ='')\n",
    "        actual_count =spark.read.table(f'{self.catalog}.{self.db_name}.{table_name}').count()\n",
    "        assert actual_count == expected_count, f'expaected {expected_count,:} records, found {actual_count:,} in {table_name}'\n",
    "        print('done')\n",
    "    def validate(self):\n",
    "        import time\n",
    "        start = int(time.time())\n",
    "        print(f'validating the data..',end ='')\n",
    "        self.assert_count('date_lookup', 365)\n",
    "        self.assert_count('history', 1000000)\n",
    "        print(f'validation complete {int(time.time()-start)}seconds')   \n"
   ]
  }
 ],
 "metadata": {
  "application/vnd.databricks.v1+notebook": {
   "computePreferences": null,
   "dashboards": [],
   "environmentMetadata": {
    "base_environment": "",
    "environment_version": "3"
   },
   "inputWidgetPreferences": null,
   "language": "python",
   "notebookMetadata": {
    "pythonIndentUnit": 4
   },
   "notebookName": "03-history-loader",
   "widgets": {}
  },
  "language_info": {
   "name": "python"
  }
 },
 "nbformat": 4,
 "nbformat_minor": 0
}
