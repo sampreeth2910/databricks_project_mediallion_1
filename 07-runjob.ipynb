{
 "cells": [
  {
   "cell_type": "code",
   "execution_count": 0,
   "metadata": {
    "application/vnd.databricks.v1+cell": {
     "cellMetadata": {
      "byteLimit": 2048000,
      "rowLimit": 10000
     },
     "inputWidgets": {},
     "nuid": "9320c4ee-54f6-4b5a-99ab-841f3fbe7cae",
     "showTitle": false,
     "tableResultSettingsMap": {},
     "title": ""
    }
   },
   "outputs": [],
   "source": [
    "dbutils.widgets.text(\"Environment\",\"mycatalog\",\"set the current environment\")\n",
    "dbutils.widgets.text('RunType',\"once\",\"set once to run as a batch\")\n",
    "dbutils.widgets.text(\"processingtime\",\"5 seconds\",\"set the microbatch interval\")"
   ]
  },
  {
   "cell_type": "code",
   "execution_count": 0,
   "metadata": {
    "application/vnd.databricks.v1+cell": {
     "cellMetadata": {
      "byteLimit": 2048000,
      "rowLimit": 10000
     },
     "inputWidgets": {},
     "nuid": "f1c714a0-b321-4957-bed4-82a8d7ee6111",
     "showTitle": false,
     "tableResultSettingsMap": {},
     "title": ""
    }
   },
   "outputs": [],
   "source": [
    "env= dbutils.widgets.get(\"Environment\")\n",
    "once = True if dbutils.widgets.get(\"RunType\")==\"once\" else False\n",
    "processingTime = dbutils.widgets.get(\"processingtime\")\n",
    "if once:\n",
    "    print ('starting in batch mode')\n",
    "else:\n",
    "    print('starting in stream mode {processingTime} microbatch.')"
   ]
  },
  {
   "cell_type": "code",
   "execution_count": 0,
   "metadata": {
    "application/vnd.databricks.v1+cell": {
     "cellMetadata": {
      "byteLimit": 2048000,
      "rowLimit": 10000
     },
     "inputWidgets": {},
     "nuid": "c17c844f-aee6-45ce-aec9-59742f2c4de7",
     "showTitle": false,
     "tableResultSettingsMap": {},
     "title": ""
    }
   },
   "outputs": [],
   "source": [
    "# Performance tuning configutration \n",
    "\n",
    "spark.conf.set ('spark.sql.shuffle.partitions',sc.defaultParallelism)\n",
    "spark.conf.set ('spark.databricks.delta.optimizeWrite.enabled',True)\n",
    "spark.conf.set('spark.databricks.delta.autoCompact.enabled',True)\n",
    "spark.conf.set('spark.sql.streaming.stateStore.providerClass', 'com.databricks.sql.streaming.statestore.RocksDBStateStoreProvider')"
   ]
  },
  {
   "cell_type": "code",
   "execution_count": 0,
   "metadata": {
    "application/vnd.databricks.v1+cell": {
     "cellMetadata": {
      "byteLimit": 2048000,
      "rowLimit": 10000
     },
     "inputWidgets": {},
     "nuid": "bfa06acb-30fb-48d0-9984-2f3a90ef141f",
     "showTitle": false,
     "tableResultSettingsMap": {},
     "title": ""
    }
   },
   "outputs": [],
   "source": [
    "%run ./02-setup"
   ]
  },
  {
   "cell_type": "code",
   "execution_count": 0,
   "metadata": {
    "application/vnd.databricks.v1+cell": {
     "cellMetadata": {
      "byteLimit": 2048000,
      "rowLimit": 10000
     },
     "inputWidgets": {},
     "nuid": "d8ed2ce7-3afd-4771-8faf-fb4c7059dbca",
     "showTitle": false,
     "tableResultSettingsMap": {},
     "title": ""
    }
   },
   "outputs": [],
   "source": [
    "%run ./03-history-loader"
   ]
  },
  {
   "cell_type": "code",
   "execution_count": 0,
   "metadata": {
    "application/vnd.databricks.v1+cell": {
     "cellMetadata": {},
     "inputWidgets": {},
     "nuid": "43b9e4fd-4fd9-4911-8e03-7b1a506c9f8d",
     "showTitle": false,
     "tableResultSettingsMap": {},
     "title": ""
    }
   },
   "outputs": [],
   "source": [
    "sh = SetupHelper(env)\n",
    "hl = HistoryLoader(env)"
   ]
  },
  {
   "cell_type": "code",
   "execution_count": 0,
   "metadata": {
    "application/vnd.databricks.v1+cell": {
     "cellMetadata": {},
     "inputWidgets": {},
     "nuid": "8c227eeb-1d09-4b73-b6b9-94dd3c2be87b",
     "showTitle": false,
     "tableResultSettingsMap": {},
     "title": ""
    }
   },
   "outputs": [],
   "source": [
    "setup_required  = spark.sql(f'show databases in {sh.catalog}).filter(f\"databaseName == '{sh.db_name}' \").count() ! =1\n",
    "if setup_required:\n",
    "    sh.setup()\n",
    "    sh.validate()\n",
    "    hl.load_history()   \n",
    "    hl.validate()\n",
    "else:\n",
    "    spark.sql(f\"use {sh.catalog}.{sh.db_name}\")"
   ]
  },
  {
   "cell_type": "code",
   "execution_count": 0,
   "metadata": {
    "application/vnd.databricks.v1+cell": {
     "cellMetadata": {
      "byteLimit": 2048000,
      "rowLimit": 10000
     },
     "inputWidgets": {},
     "nuid": "abf6f1e2-341e-40f4-a8d6-4796dff7f8af",
     "showTitle": false,
     "tableResultSettingsMap": {},
     "title": ""
    }
   },
   "outputs": [],
   "source": [
    "%run ./04-bronze-layer"
   ]
  },
  {
   "cell_type": "code",
   "execution_count": 0,
   "metadata": {
    "application/vnd.databricks.v1+cell": {
     "cellMetadata": {
      "byteLimit": 2048000,
      "rowLimit": 10000
     },
     "inputWidgets": {},
     "nuid": "2c5b6cda-08ae-4a02-808a-15d43bdf671a",
     "showTitle": false,
     "tableResultSettingsMap": {},
     "title": ""
    }
   },
   "outputs": [],
   "source": [
    "%run ./05-silver-layer"
   ]
  },
  {
   "cell_type": "code",
   "execution_count": 0,
   "metadata": {
    "application/vnd.databricks.v1+cell": {
     "cellMetadata": {
      "byteLimit": 2048000,
      "rowLimit": 10000
     },
     "inputWidgets": {},
     "nuid": "2243ab87-ee8f-4e2f-9b75-70b5150d2f01",
     "showTitle": false,
     "tableResultSettingsMap": {},
     "title": ""
    }
   },
   "outputs": [],
   "source": [
    "%run ./06-gold-layer"
   ]
  },
  {
   "cell_type": "code",
   "execution_count": 0,
   "metadata": {
    "application/vnd.databricks.v1+cell": {
     "cellMetadata": {},
     "inputWidgets": {},
     "nuid": "706ff7a1-dfd7-48d8-9139-b4ecdf275554",
     "showTitle": false,
     "tableResultSettingsMap": {},
     "title": ""
    }
   },
   "outputs": [],
   "source": [
    "bl= bronze(env)\n",
    "sl = silver(env)\n",
    "gl = Gold(env)"
   ]
  },
  {
   "cell_type": "code",
   "execution_count": 0,
   "metadata": {
    "application/vnd.databricks.v1+cell": {
     "cellMetadata": {},
     "inputWidgets": {},
     "nuid": "03c70e18-bd1e-4b34-ab99-80e9d16e085e",
     "showTitle": false,
     "tableResultSettingsMap": {},
     "title": ""
    }
   },
   "outputs": [],
   "source": [
    "bl.consume(once,processing_time)"
   ]
  },
  {
   "cell_type": "code",
   "execution_count": 0,
   "metadata": {
    "application/vnd.databricks.v1+cell": {
     "cellMetadata": {},
     "inputWidgets": {},
     "nuid": "12363be3-5ced-46f0-ba2a-b2680946f1f2",
     "showTitle": false,
     "tableResultSettingsMap": {},
     "title": ""
    }
   },
   "outputs": [],
   "source": [
    "sl.upsert(once,processing_time)"
   ]
  },
  {
   "cell_type": "code",
   "execution_count": 0,
   "metadata": {
    "application/vnd.databricks.v1+cell": {
     "cellMetadata": {},
     "inputWidgets": {},
     "nuid": "ae7148b8-0243-4df4-8b6f-71ed3453a755",
     "showTitle": false,
     "tableResultSettingsMap": {},
     "title": ""
    }
   },
   "outputs": [],
   "source": [
    "gl.upsert(once,processing_time)"
   ]
  }
 ],
 "metadata": {
  "application/vnd.databricks.v1+notebook": {
   "computePreferences": null,
   "dashboards": [],
   "environmentMetadata": {
    "base_environment": "",
    "environment_version": "3"
   },
   "inputWidgetPreferences": null,
   "language": "python",
   "notebookMetadata": {
    "pythonIndentUnit": 4
   },
   "notebookName": "07-runjob",
   "widgets": {
    "Environment": {
     "currentValue": "mycatalog",
     "nuid": "7bcf6743-7d0b-4b0c-9d74-797aaa32f0be",
     "typedWidgetInfo": {
      "autoCreated": false,
      "defaultValue": "mycatalog",
      "label": "set the current environment",
      "name": "Environment",
      "options": {
       "widgetDisplayType": "Text",
       "validationRegex": null
      },
      "parameterDataType": "String"
     },
     "widgetInfo": {
      "widgetType": "text",
      "defaultValue": "mycatalog",
      "label": "set the current environment",
      "name": "Environment",
      "options": {
       "widgetType": "text",
       "autoCreated": false,
       "validationRegex": null
      }
     }
    },
    "RunType": {
     "currentValue": "once",
     "nuid": "cd080861-91f9-42b8-9b1b-ac6ed54baac1",
     "typedWidgetInfo": {
      "autoCreated": false,
      "defaultValue": "once",
      "label": "set once to run as a batch",
      "name": "RunType",
      "options": {
       "widgetDisplayType": "Text",
       "validationRegex": null
      },
      "parameterDataType": "String"
     },
     "widgetInfo": {
      "widgetType": "text",
      "defaultValue": "once",
      "label": "set once to run as a batch",
      "name": "RunType",
      "options": {
       "widgetType": "text",
       "autoCreated": false,
       "validationRegex": null
      }
     }
    },
    "processingtime": {
     "currentValue": "5 seconds",
     "nuid": "c501dee0-b7ea-4fcb-89a3-bc1547526b0a",
     "typedWidgetInfo": {
      "autoCreated": false,
      "defaultValue": "5 seconds",
      "label": "set the microbatch interval",
      "name": "processingtime",
      "options": {
       "widgetDisplayType": "Text",
       "validationRegex": null
      },
      "parameterDataType": "String"
     },
     "widgetInfo": {
      "widgetType": "text",
      "defaultValue": "5 seconds",
      "label": "set the microbatch interval",
      "name": "processingtime",
      "options": {
       "widgetType": "text",
       "autoCreated": false,
       "validationRegex": null
      }
     }
    }
   }
  },
  "language_info": {
   "name": "python"
  }
 },
 "nbformat": 4,
 "nbformat_minor": 0
}
